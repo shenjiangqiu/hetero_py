{
 "cells": [
  {
   "cell_type": "code",
   "execution_count": 7,
   "metadata": {},
   "outputs": [],
   "source": [
    "from hetro_py.load_graph import load_graph\n",
    "g = load_graph(\"dblp\")\n",
    "g= g.to(\"cuda:0\")"
   ]
  },
  {
   "cell_type": "code",
   "execution_count": 6,
   "metadata": {},
   "outputs": [
    {
     "name": "stdout",
     "output_type": "stream",
     "text": [
      "[4 4 2 4]\n",
      "Counter({4: 3, 2: 1})\n"
     ]
    }
   ],
   "source": [
    "import numpy as np\n",
    "from collections import Counter\n",
    "\n",
    "# 生成随机edgelist示例数据\n",
    "edgelist = np.array([[0,0,0,0,1,1,1,1,2,2,3,3,3,3], [1,1,2,3,2,3,4,5,4,5,2,2,2,2]])\n",
    "\n",
    "\n",
    "# 使用 np.bincount 统计每个节点的出边数量\n",
    "node_degree = np.bincount(edgelist[0])\n",
    "print(node_degree)\n",
    "# 创建 Counter 对象，得到每个节点的出边数量出现的次数\n",
    "histogram = Counter(node_degree)\n",
    "\n",
    "# 打印结果\n",
    "print(histogram)"
   ]
  },
  {
   "cell_type": "code",
   "execution_count": null,
   "metadata": {},
   "outputs": [],
   "source": []
  }
 ],
 "metadata": {
  "kernelspec": {
   "display_name": "cuda",
   "language": "python",
   "name": "python3"
  },
  "language_info": {
   "codemirror_mode": {
    "name": "ipython",
    "version": 3
   },
   "file_extension": ".py",
   "mimetype": "text/x-python",
   "name": "python",
   "nbconvert_exporter": "python",
   "pygments_lexer": "ipython3",
   "version": "3.11.3"
  },
  "orig_nbformat": 4
 },
 "nbformat": 4,
 "nbformat_minor": 2
}
