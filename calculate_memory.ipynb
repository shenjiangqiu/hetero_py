{
 "cells": [
  {
   "cell_type": "code",
   "execution_count": 1,
   "metadata": {},
   "outputs": [
    {
     "name": "stderr",
     "output_type": "stream",
     "text": [
      "/home/sjq/.conda/envs/cuda/lib/python3.11/site-packages/tqdm/auto.py:21: TqdmWarning: IProgress not found. Please update jupyter and ipywidgets. See https://ipywidgets.readthedocs.io/en/stable/user_install.html\n",
      "  from .autonotebook import tqdm as notebook_tqdm\n"
     ]
    },
    {
     "name": "stdout",
     "output_type": "stream",
     "text": [
      "HeteroData(\n",
      "  \u001b[1mpaper\u001b[0m={\n",
      "    x=[736389, 128],\n",
      "    year=[736389],\n",
      "    y=[736389],\n",
      "    train_mask=[736389],\n",
      "    val_mask=[736389],\n",
      "    test_mask=[736389]\n",
      "  },\n",
      "  \u001b[1mauthor\u001b[0m={ num_nodes=1134649 },\n",
      "  \u001b[1minstitution\u001b[0m={ num_nodes=8740 },\n",
      "  \u001b[1mfield_of_study\u001b[0m={ num_nodes=59965 },\n",
      "  \u001b[1m(author, affiliated_with, institution)\u001b[0m={ edge_index=[2, 1043998] },\n",
      "  \u001b[1m(author, writes, paper)\u001b[0m={ edge_index=[2, 7145660] },\n",
      "  \u001b[1m(paper, cites, paper)\u001b[0m={ edge_index=[2, 10792672] },\n",
      "  \u001b[1m(paper, has_topic, field_of_study)\u001b[0m={ edge_index=[2, 7505078] },\n",
      "  \u001b[1m(institution, rev_affiliated_with, author)\u001b[0m={ edge_index=[2, 1043998] },\n",
      "  \u001b[1m(paper, rev_writes, author)\u001b[0m={ edge_index=[2, 7145660] },\n",
      "  \u001b[1m(field_of_study, rev_has_topic, paper)\u001b[0m={ edge_index=[2, 7505078] }\n",
      ")\n",
      "10.191730186083714\n",
      "apf:  277.81157959553127  MB\n",
      "apfpa:  337398.2079521468  MB\n",
      "({('author', 'affiliated_with', 'institution'): tensor([      0,       1,       2,  ..., 1043996, 1043997, 1043998]), ('author', 'writes', 'paper'): tensor([      0,       4,       7,  ..., 7145654, 7145658, 7145660]), ('paper', 'cites', 'paper'): tensor([       0,        6,        7,  ..., 10792606, 10792612, 10792672]), ('paper', 'has_topic', 'field_of_study'): tensor([      0,      11,      22,  ..., 7505065, 7505068, 7505078]), ('institution', 'rev_affiliated_with', 'author'): tensor([      0,      13,      41,  ..., 1043734, 1043817, 1043998]), ('paper', 'rev_writes', 'author'): tensor([      0,     287,     291,  ..., 7145652, 7145656, 7145660]), ('field_of_study', 'rev_has_topic', 'paper'): tensor([      0,       7,    1360,  ..., 7505076, 7505077, 7505078])}, {('author', 'affiliated_with', 'institution'): tensor([ 845,  996, 3197,  ..., 5189, 4668, 4668]), ('author', 'writes', 'paper'): tensor([ 19703, 289285, 311768,  ..., 657395, 671118, 719594]), ('paper', 'cites', 'paper'): tensor([    88,  27449, 121051,  ..., 707740, 732008, 732389]), ('paper', 'has_topic', 'field_of_study'): tensor([  145,  2215,  3205,  ..., 21458, 22283, 31934]), ('institution', 'rev_affiliated_with', 'author'): tensor([ 164492,  187667,  199995,  ..., 1124533, 1124549, 1132997]), ('paper', 'rev_writes', 'author'): tensor([  16626,   19247,   20846,  ...,  249015,  912871, 1029433]), ('field_of_study', 'rev_has_topic', 'paper'): tensor([222683, 370067, 430465,  ...,  38176, 514545, 334613])}, {('author', 'affiliated_with', 'institution'): tensor([      0,       1,       2,  ..., 1043995, 1043996, 1043997]), ('author', 'writes', 'paper'): tensor([      0,       1,       2,  ..., 7145657, 7145658, 7145659]), ('paper', 'cites', 'paper'): tensor([       0,        1,        2,  ..., 10792669, 10792670, 10792671]), ('paper', 'has_topic', 'field_of_study'): tensor([      0,       1,       2,  ..., 7505075, 7505076, 7505077]), ('institution', 'rev_affiliated_with', 'author'): tensor([ 170916,  195456,  208497,  ..., 1034292, 1034306, 1042358]), ('paper', 'rev_writes', 'author'): tensor([  99122,  119173,  130361,  ..., 2339768, 5889201, 6470565]), ('field_of_study', 'rev_has_topic', 'paper'): tensor([2310560, 3840174, 4471810,  ...,  394029, 5329783, 3472471])})\n"
     ]
    }
   ],
   "source": [
    "from hetro_py.load_graph import load_graph\n",
    "ogb_mag = load_graph('ogb-mag')\n",
    "print(ogb_mag)\n",
    "# apfpa\n",
    "average_p_f = len(ogb_mag[\"paper\",\"field_of_study\"].edge_index[0]) / ogb_mag[\"paper\"].num_nodes\n",
    "average_f_p = len(ogb_mag[\"field_of_study\",\"paper\"].edge_index[0]) / ogb_mag[\"field_of_study\"].num_nodes\n",
    "average_p_a = len(ogb_mag[\"paper\",\"author\"].edge_index[0]) / ogb_mag[\"paper\"].num_nodes\n",
    "print(average_p_f)\n",
    "apf = len(ogb_mag[\"author\",\"paper\"].edge_index[0]) * average_p_f\n",
    "apfpa = len(ogb_mag[\"author\",\"paper\"].edge_index[0]) * average_p_f * average_f_p * average_p_a\n",
    "print(\"apf: \",apf * 4 /1024 / 1024,\" MB\")\n",
    "print(\"apfpa: \",apfpa *4 / 1024 / 1024,\" MB\")\n",
    "# the csr \n",
    "csr_data = ogb_mag.csr(store = True)\n",
    "print(csr_data)"
   ]
  },
  {
   "cell_type": "code",
   "execution_count": 6,
   "metadata": {},
   "outputs": [
    {
     "name": "stdout",
     "output_type": "stream",
     "text": [
      "tensor([      0,       1,       2,  ..., 1043996, 1043997, 1043998])\n",
      "tensor([ 845,  996, 3197,  ..., 5189, 4668, 4668])\n",
      "tensor([      0,       1,       2,  ..., 1043995, 1043996, 1043997])\n",
      "{'edge_index': tensor([[      0,       1,       2,  ..., 1134645, 1134647, 1134648],\n",
      "        [    845,     996,    3197,  ...,    5189,    4668,    4668]]), 'adj': SparseTensor(row=tensor([      0,       1,       2,  ..., 1134645, 1134647, 1134648]),\n",
      "             col=tensor([ 845,  996, 3197,  ..., 5189, 4668, 4668]),\n",
      "             size=(1134649, 8740), nnz=1043998, density=0.01%)}\n"
     ]
    }
   ],
   "source": [
    "print(csr_data[0][\"author\",\"affiliated_with\",\"institution\"])\n",
    "print(csr_data[1][\"author\",\"affiliated_with\",\"institution\"])\n",
    "print(csr_data[2][\"author\",\"affiliated_with\",\"institution\"])\n",
    "print(ogb_mag[\"author\",\"affiliated_with\",\"institution\"])"
   ]
  },
  {
   "cell_type": "code",
   "execution_count": 34,
   "metadata": {},
   "outputs": [
    {
     "name": "stdout",
     "output_type": "stream",
     "text": [
      "tensor([       0,        6,        7,  ..., 10792606, 10792612, 10792672])\n",
      "tensor([    88,  27449, 121051,  ..., 707740, 732008, 732389])\n",
      "tensor([       0,        1,        2,  ..., 10792669, 10792670, 10792671])\n",
      "{'edge_index': tensor([[     0,      0,      0,  ..., 736388, 736388, 736388],\n",
      "        [    88,  27449, 121051,  ..., 707740, 732008, 732389]]), 'adj': SparseTensor(row=tensor([     0,      0,      0,  ..., 736388, 736388, 736388]),\n",
      "             col=tensor([    88,  27449, 121051,  ..., 707740, 732008, 732389]),\n",
      "             size=(736389, 736389), nnz=10792672, density=0.00%)}\n",
      "2\n",
      "SparseTensor(row=tensor([0, 0, 0, 0, 0, 0]),\n",
      "             col=tensor([    88,  27449, 121051, 151667, 308499, 368076]),\n",
      "             size=(1, 736389), nnz=6, density=0.00%)\n",
      "SparseTensor(row=tensor([0, 0, 0, 0, 0, 0]),\n",
      "             col=tensor([    88,  27449, 121051, 151667, 308499, 368076]),\n",
      "             size=(1, 736389), nnz=6, density=0.00%)\n"
     ]
    },
    {
     "ename": "AttributeError",
     "evalue": "'SparseTensor' object has no attribute 'cols'",
     "output_type": "error",
     "traceback": [
      "\u001b[0;31m---------------------------------------------------------------------------\u001b[0m",
      "\u001b[0;31mAttributeError\u001b[0m                            Traceback (most recent call last)",
      "Cell \u001b[0;32mIn[34], line 11\u001b[0m\n\u001b[1;32m      9\u001b[0m \u001b[39mprint\u001b[39m(ogb_mag[start,end]\u001b[39m.\u001b[39madj[node])\n\u001b[1;32m     10\u001b[0m \u001b[39mprint\u001b[39m(ogb_mag[\u001b[39m\"\u001b[39m\u001b[39mpaper\u001b[39m\u001b[39m\"\u001b[39m,\u001b[39m\"\u001b[39m\u001b[39mpaper\u001b[39m\u001b[39m\"\u001b[39m]\u001b[39m.\u001b[39madj[\u001b[39m0\u001b[39m])\n\u001b[0;32m---> 11\u001b[0m \u001b[39mfor\u001b[39;00m col \u001b[39min\u001b[39;00m ogb_mag[\u001b[39m\"\u001b[39m\u001b[39mpaper\u001b[39m\u001b[39m\"\u001b[39m,\u001b[39m\"\u001b[39m\u001b[39mpaper\u001b[39m\u001b[39m\"\u001b[39m]\u001b[39m.\u001b[39madj[node]\u001b[39m.\u001b[39mcols():\n\u001b[1;32m     12\u001b[0m     \u001b[39mprint\u001b[39m(col)\n\u001b[1;32m     13\u001b[0m \u001b[39mprint\u001b[39m(ogb_mag[\u001b[39m\"\u001b[39m\u001b[39mpaper\u001b[39m\u001b[39m\"\u001b[39m,\u001b[39m\"\u001b[39m\u001b[39mpaper\u001b[39m\u001b[39m\"\u001b[39m]\u001b[39m.\u001b[39madj\u001b[39m.\u001b[39msize(\u001b[39m0\u001b[39m))\n",
      "\u001b[0;31mAttributeError\u001b[0m: 'SparseTensor' object has no attribute 'cols'"
     ]
    }
   ],
   "source": [
    "print(csr_data[0][\"paper\",\"cites\",\"paper\"])\n",
    "print(csr_data[1][\"paper\",\"cites\",\"paper\"])\n",
    "print(csr_data[2][\"paper\",\"cites\",\"paper\"])\n",
    "print(ogb_mag[\"paper\",\"cites\",\"paper\"])\n",
    "print(ogb_mag[\"paper\",\"paper\"].adj.dim())\n",
    "start = \"paper\"\n",
    "end = \"paper\"\n",
    "node =0\n",
    "print(ogb_mag[start,end].adj[node])\n",
    "print(ogb_mag[\"paper\",\"paper\"].adj[0])\n",
    "for col in ogb_mag[\"paper\",\"paper\"].adj[node].cols():\n",
    "    print(col)\n",
    "print(ogb_mag[\"paper\",\"paper\"].adj.size(0))\n",
    "print(ogb_mag[\"paper\",\"paper\"].adj.size(1))\n",
    "print(ogb_mag[\"author\",\"paper\"].adj.size(0))\n",
    "print(ogb_mag[\"author\",\"paper\"].adj.size(1))\n",
    "from torch_geometric.typing import OptTensor, SparseTensor"
   ]
  },
  {
   "cell_type": "code",
   "execution_count": 29,
   "metadata": {},
   "outputs": [],
   "source": [
    "from typing import *\n",
    "def get_metapath(data,start_node,metapath)->int:\n",
    "    start = metapath[0]\n",
    "    end = metapath[1]\n",
    "    neighbors = data[(start,end)].adj[start_node]\n",
    "    if len(metapath) == 2:\n",
    "        return len(neighbors)\n",
    "    else:\n",
    "        total=0\n",
    "        for neighbor in neighbors:\n",
    "            child_nodes=get_metapath(data,neighbor,metapath[1:])\n",
    "            total += child_nodes\n",
    "        return total\n",
    "\n",
    "def calculate_memory(data,metapath)->int:\n",
    "    start = metapath[0]\n",
    "    end = metapath[1]\n",
    "    rows = data[start,end].adj.size(0)\n",
    "    total = 0\n",
    "    for i in range(rows):\n",
    "        total += get_metapath(data,i,metapath)\n",
    "    return total\n"
   ]
  },
  {
   "cell_type": "code",
   "execution_count": 30,
   "metadata": {},
   "outputs": [
    {
     "ename": "SyntaxError",
     "evalue": "None (<string>)",
     "output_type": "error",
     "traceback": [
      "Traceback \u001b[0;36m(most recent call last)\u001b[0m:\n",
      "\u001b[0m  File \u001b[1;32m~/.conda/envs/cuda/lib/python3.11/site-packages/IPython/core/interactiveshell.py:3505\u001b[0m in \u001b[1;35mrun_code\u001b[0m\n    exec(code_obj, self.user_global_ns, self.user_ns)\u001b[0m\n",
      "\u001b[0m  Cell \u001b[1;32mIn[30], line 1\u001b[0m\n    memory = calculate_memory(ogb_mag,[\"author\",\"paper\",\"author\"])\u001b[0m\n",
      "\u001b[0m  Cell \u001b[1;32mIn[29], line 21\u001b[0m in \u001b[1;35mcalculate_memory\u001b[0m\n    total += get_metapath(data,i,metapath)\u001b[0m\n",
      "\u001b[0m  Cell \u001b[1;32mIn[29], line 11\u001b[0m in \u001b[1;35mget_metapath\u001b[0m\n    child_nodes=get_metapath(data,neighbor,metapath[1:])\u001b[0m\n",
      "\u001b[0m  Cell \u001b[1;32mIn[29], line 5\u001b[0m in \u001b[1;35mget_metapath\u001b[0m\n    neighbors = data[(start,end)].adj[start_node]\u001b[0m\n",
      "\u001b[0;36m  File \u001b[0;32m~/.conda/envs/cuda/lib/python3.11/site-packages/torch_sparse/tensor.py:601\u001b[0;36m in \u001b[0;35m__getitem__\u001b[0;36m\n\u001b[0;31m    raise SyntaxError\u001b[0;36m\n",
      "\u001b[0;36m  File \u001b[0;32m<string>\u001b[0;36m\u001b[0m\n\u001b[0;31mSyntaxError\u001b[0m\n"
     ]
    }
   ],
   "source": [
    "memory = calculate_memory(ogb_mag,[\"author\",\"paper\",\"author\"])\n",
    "print(memory)"
   ]
  }
 ],
 "metadata": {
  "kernelspec": {
   "display_name": "cuda",
   "language": "python",
   "name": "python3"
  },
  "language_info": {
   "codemirror_mode": {
    "name": "ipython",
    "version": 3
   },
   "file_extension": ".py",
   "mimetype": "text/x-python",
   "name": "python",
   "nbconvert_exporter": "python",
   "pygments_lexer": "ipython3",
   "version": "3.11.3"
  },
  "orig_nbformat": 4
 },
 "nbformat": 4,
 "nbformat_minor": 2
}
