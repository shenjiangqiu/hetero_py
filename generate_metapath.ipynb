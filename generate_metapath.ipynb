{
 "cells": [
  {
   "cell_type": "code",
   "execution_count": 3,
   "metadata": {},
   "outputs": [
    {
     "ename": "ModuleNotFoundError",
     "evalue": "No module named 'attr'",
     "output_type": "error",
     "traceback": [
      "\u001b[0;31m---------------------------------------------------------------------------\u001b[0m",
      "\u001b[0;31mModuleNotFoundError\u001b[0m                       Traceback (most recent call last)",
      "Cell \u001b[0;32mIn[3], line 3\u001b[0m\n\u001b[1;32m      1\u001b[0m \u001b[39mfrom\u001b[39;00m \u001b[39mtyping\u001b[39;00m \u001b[39mimport\u001b[39;00m List\n\u001b[0;32m----> 3\u001b[0m \u001b[39mfrom\u001b[39;00m \u001b[39mattr\u001b[39;00m \u001b[39mimport\u001b[39;00m dataclass\n\u001b[1;32m      4\u001b[0m \u001b[39mfrom\u001b[39;00m \u001b[39mhetro_py\u001b[39;00m\u001b[39m.\u001b[39;00m\u001b[39mload_graph\u001b[39;00m \u001b[39mimport\u001b[39;00m load_graph\n\u001b[1;32m      5\u001b[0m \u001b[39mfrom\u001b[39;00m \u001b[39mhetro_py\u001b[39;00m\u001b[39m.\u001b[39;00m\u001b[39mmetapath\u001b[39;00m \u001b[39mimport\u001b[39;00m Metapath\n",
      "\u001b[0;31mModuleNotFoundError\u001b[0m: No module named 'attr'"
     ]
    }
   ],
   "source": [
    "from typing import List\n",
    "\n",
    "from hetro_py.load_graph import load_graph\n",
    "from hetro_py.metapath import Metapath\n"
   ]
  },
  {
   "cell_type": "code",
   "execution_count": 2,
   "metadata": {},
   "outputs": [
    {
     "name": "stdout",
     "output_type": "stream",
     "text": [
      "(['author', 'venue', 'paper'], [('paper', 'written_by', 'author'), ('author', 'writes', 'paper'), ('paper', 'published_in', 'venue'), ('venue', 'publishes', 'paper')])\n"
     ]
    }
   ],
   "source": [
    "\n",
    "aminer = load_graph(\"aminer\")\n",
    "print(aminer.metadata())\n"
   ]
  },
  {
   "cell_type": "code",
   "execution_count": 2,
   "metadata": {},
   "outputs": [
    {
     "ename": "NameError",
     "evalue": "name 'load_graph' is not defined",
     "output_type": "error",
     "traceback": [
      "\u001b[0;31m---------------------------------------------------------------------------\u001b[0m",
      "\u001b[0;31mNameError\u001b[0m                                 Traceback (most recent call last)",
      "Cell \u001b[0;32mIn[2], line 1\u001b[0m\n\u001b[0;32m----> 1\u001b[0m dblp \u001b[39m=\u001b[39m load_graph(\u001b[39m\"\u001b[39m\u001b[39mdblp\u001b[39m\u001b[39m\"\u001b[39m)\n\u001b[1;32m      2\u001b[0m \u001b[39mprint\u001b[39m(dblp\u001b[39m.\u001b[39mmetadata())\n\u001b[1;32m      3\u001b[0m \u001b[39m# APA , APTPA, APVPA\u001b[39;00m\n",
      "\u001b[0;31mNameError\u001b[0m: name 'load_graph' is not defined"
     ]
    }
   ],
   "source": [
    "\n",
    "dblp = load_graph(\"dblp\")\n",
    "print(dblp.metadata())\n",
    "# APA , APTPA, APVPA\n",
    "dplp_metapaht = Metapath(\"dblp\",[\n",
    "    [\"author\",\"paper\",\"author\"],\n",
    "    [\"author\",\"paper\",\"conference\",\"paper\",\"author\"],\n",
    "    [\"author\",\"paper\",\"term\",\"paper\",\"author\"]])\n",
    "print(dblp[\"author\",\"paper\"])\n",
    "print(dplp_metapaht)\n",
    "\n"
   ]
  },
  {
   "cell_type": "code",
   "execution_count": 10,
   "metadata": {},
   "outputs": [
    {
     "name": "stdout",
     "output_type": "stream",
     "text": [
      "(['movie', 'director', 'actor'], [('movie', 'to', 'director'), ('movie', 'to', 'actor'), ('director', 'to', 'movie'), ('actor', 'to', 'movie')])\n",
      "Metapath(name='imbd', metapath=[['movie', 'director', 'movie'], ['movie', 'actor', 'movie'], ['director', 'movie', 'actor', 'movie', 'director'], ['actor', 'movie', 'actor'], ['actor', 'movie', 'director', 'movie', 'actor']])\n"
     ]
    }
   ],
   "source": [
    "imbd  = load_graph(\"imdb\")\n",
    "print(imbd.metadata())\n",
    "#['movie', 'director', 'actor']\n",
    "#MDM,MAM,DMD,DMAMD,AMA,AMDMA,\n",
    "ibmd_metapath = Metapath(\"imbd\",[\n",
    "    [\"movie\",\"director\",\"movie\"],\n",
    "    [\"movie\",\"actor\",\"movie\"],\n",
    "    [\"director\",\"movie\",\"actor\",\"movie\",\"director\"],\n",
    "    [\"actor\",\"movie\",\"actor\"],\n",
    "    [\"actor\",\"movie\",\"director\",\"movie\",\"actor\"]])\n",
    "print(ibmd_metapath)"
   ]
  },
  {
   "cell_type": "code",
   "execution_count": 11,
   "metadata": {},
   "outputs": [
    {
     "name": "stdout",
     "output_type": "stream",
     "text": [
      "(['user', 'artist', 'tag'], [('user', 'to', 'artist'), ('user', 'to', 'user'), ('artist', 'to', 'user'), ('artist', 'to', 'tag'), ('tag', 'to', 'artist')])\n",
      "Metapath(name='lastfm', metapath=[['user', 'artist', 'user'], ['user', 'artist', 'tag', 'artist', 'user'], ['artist', 'user', 'artist'], ['artist', 'tag', 'artist']])\n"
     ]
    }
   ],
   "source": [
    "lastfm = load_graph(\"last-fm\")\n",
    "print(lastfm.metadata())\n",
    "# UAU,UATAU,AUA,ATA\n",
    "#[\"user\",\"artist\",\"tag\"]\n",
    "lastfm_metapath = Metapath(\"lastfm\",[\n",
    "    [\"user\",\"artist\",\"user\"],\n",
    "    [\"user\",\"artist\",\"tag\",\"artist\",\"user\"],\n",
    "    [\"artist\",\"user\",\"artist\"],\n",
    "    [\"artist\",\"tag\",\"artist\"]])\n",
    "print(lastfm_metapath)"
   ]
  },
  {
   "cell_type": "code",
   "execution_count": 12,
   "metadata": {},
   "outputs": [
    {
     "name": "stdout",
     "output_type": "stream",
     "text": [
      "(['paper', 'author', 'institution', 'field_of_study'], [('author', 'affiliated_with', 'institution'), ('author', 'writes', 'paper'), ('paper', 'cites', 'paper'), ('paper', 'has_topic', 'field_of_study'), ('institution', 'rev_affiliated_with', 'author'), ('paper', 'rev_writes', 'author'), ('field_of_study', 'rev_has_topic', 'paper')])\n",
      "Metapath(name='ogbmag', metapath=[['author', 'paper', 'author'], ['author', 'paper', 'field_of_study', 'paper', 'author']])\n"
     ]
    }
   ],
   "source": [
    "ogbmag = load_graph(\"ogb-mag\")\n",
    "print(ogbmag.metadata())\n",
    "#['paper', 'author', 'institution', 'field_of_study']\n",
    "# APA,APFPA\n",
    "ogbmag_metapath = Metapath(\"ogbmag\",[\n",
    "    [\"author\",\"paper\",\"author\"],\n",
    "    [\"author\",\"paper\",\"field_of_study\",\"paper\",\"author\"]])\n",
    "print(ogbmag_metapath)\n"
   ]
  },
  {
   "cell_type": "code",
   "execution_count": null,
   "metadata": {},
   "outputs": [],
   "source": []
  }
 ],
 "metadata": {
  "kernelspec": {
   "display_name": "cuda",
   "language": "python",
   "name": "python3"
  },
  "language_info": {
   "codemirror_mode": {
    "name": "ipython",
    "version": 3
   },
   "file_extension": ".py",
   "mimetype": "text/x-python",
   "name": "python",
   "nbconvert_exporter": "python",
   "pygments_lexer": "ipython3",
   "version": "3.11.3"
  },
  "orig_nbformat": 4
 },
 "nbformat": 4,
 "nbformat_minor": 2
}
